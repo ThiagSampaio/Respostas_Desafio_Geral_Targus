{
 "cells": [
  {
   "cell_type": "code",
   "execution_count": 167,
   "metadata": {},
   "outputs": [],
   "source": [
    "import pandas as pd\n",
    "import re \n",
    "from datetime import datetime, timedelta"
   ]
  },
  {
   "cell_type": "code",
   "execution_count": 149,
   "metadata": {},
   "outputs": [],
   "source": [
    "teste = open('DP.txt').read()"
   ]
  },
  {
   "cell_type": "code",
   "execution_count": 150,
   "metadata": {},
   "outputs": [],
   "source": [
    "tratamento1 = re.sub('&', '',teste)\n",
    "tratamento2 = re.sub('X', '',tratamento1)\n",
    "tratamento3 = re.sub('CARGA', '', tratamento2)\n",
    "tratamento4 = re.sub('DP', '', tratamento3)\n",
    "tratamento5 = re.sub('hf', '', tratamento4)\n",
    "tratamento6 = re.sub('\\n\\n', '', tratamento5)\n"
   ]
  },
  {
   "cell_type": "code",
   "execution_count": 151,
   "metadata": {},
   "outputs": [
    {
     "data": {
      "text/plain": [
       "7336"
      ]
     },
     "execution_count": 151,
     "metadata": {},
     "output_type": "execute_result"
    }
   ],
   "source": [
    "open('DP_Tratado.txt','w').write(tratamento6)"
   ]
  },
  {
   "cell_type": "code",
   "execution_count": 152,
   "metadata": {},
   "outputs": [],
   "source": [
    "df = pd.read_csv('DP_Tratado.txt',delimiter=\"\\s+\", index_col=False)"
   ]
  },
  {
   "cell_type": "code",
   "execution_count": 153,
   "metadata": {},
   "outputs": [
    {
     "data": {
      "text/html": [
       "<div>\n",
       "<style scoped>\n",
       "    .dataframe tbody tr th:only-of-type {\n",
       "        vertical-align: middle;\n",
       "    }\n",
       "\n",
       "    .dataframe tbody tr th {\n",
       "        vertical-align: top;\n",
       "    }\n",
       "\n",
       "    .dataframe thead th {\n",
       "        text-align: right;\n",
       "    }\n",
       "</style>\n",
       "<table border=\"1\" class=\"dataframe\">\n",
       "  <thead>\n",
       "    <tr style=\"text-align: right;\">\n",
       "      <th></th>\n",
       "      <th>ss</th>\n",
       "      <th>di</th>\n",
       "      <th>hi</th>\n",
       "      <th>m</th>\n",
       "      <th>df</th>\n",
       "      <th>m.1</th>\n",
       "      <th>Demanda</th>\n",
       "    </tr>\n",
       "  </thead>\n",
       "  <tbody>\n",
       "    <tr>\n",
       "      <th>0</th>\n",
       "      <td>1</td>\n",
       "      <td>2</td>\n",
       "      <td>0</td>\n",
       "      <td>0</td>\n",
       "      <td>F</td>\n",
       "      <td>36703.0</td>\n",
       "      <td>NaN</td>\n",
       "    </tr>\n",
       "    <tr>\n",
       "      <th>1</th>\n",
       "      <td>1</td>\n",
       "      <td>2</td>\n",
       "      <td>0</td>\n",
       "      <td>1</td>\n",
       "      <td>F</td>\n",
       "      <td>35673.0</td>\n",
       "      <td>NaN</td>\n",
       "    </tr>\n",
       "    <tr>\n",
       "      <th>2</th>\n",
       "      <td>1</td>\n",
       "      <td>2</td>\n",
       "      <td>1</td>\n",
       "      <td>0</td>\n",
       "      <td>F</td>\n",
       "      <td>34527.0</td>\n",
       "      <td>NaN</td>\n",
       "    </tr>\n",
       "    <tr>\n",
       "      <th>3</th>\n",
       "      <td>1</td>\n",
       "      <td>2</td>\n",
       "      <td>1</td>\n",
       "      <td>1</td>\n",
       "      <td>F</td>\n",
       "      <td>33996.0</td>\n",
       "      <td>NaN</td>\n",
       "    </tr>\n",
       "    <tr>\n",
       "      <th>4</th>\n",
       "      <td>1</td>\n",
       "      <td>2</td>\n",
       "      <td>2</td>\n",
       "      <td>0</td>\n",
       "      <td>F</td>\n",
       "      <td>33526.0</td>\n",
       "      <td>NaN</td>\n",
       "    </tr>\n",
       "    <tr>\n",
       "      <th>...</th>\n",
       "      <td>...</td>\n",
       "      <td>...</td>\n",
       "      <td>...</td>\n",
       "      <td>...</td>\n",
       "      <td>...</td>\n",
       "      <td>...</td>\n",
       "      <td>...</td>\n",
       "    </tr>\n",
       "    <tr>\n",
       "      <th>216</th>\n",
       "      <td>4</td>\n",
       "      <td>4</td>\n",
       "      <td>0</td>\n",
       "      <td>0</td>\n",
       "      <td>F</td>\n",
       "      <td>5944.0</td>\n",
       "      <td>NaN</td>\n",
       "    </tr>\n",
       "    <tr>\n",
       "      <th>217</th>\n",
       "      <td>4</td>\n",
       "      <td>4</td>\n",
       "      <td>7</td>\n",
       "      <td>0</td>\n",
       "      <td>F</td>\n",
       "      <td>5618.0</td>\n",
       "      <td>NaN</td>\n",
       "    </tr>\n",
       "    <tr>\n",
       "      <th>218</th>\n",
       "      <td>4</td>\n",
       "      <td>4</td>\n",
       "      <td>10</td>\n",
       "      <td>0</td>\n",
       "      <td>F</td>\n",
       "      <td>6125.0</td>\n",
       "      <td>NaN</td>\n",
       "    </tr>\n",
       "    <tr>\n",
       "      <th>219</th>\n",
       "      <td>4</td>\n",
       "      <td>4</td>\n",
       "      <td>22</td>\n",
       "      <td>0</td>\n",
       "      <td>F</td>\n",
       "      <td>6504.0</td>\n",
       "      <td>NaN</td>\n",
       "    </tr>\n",
       "    <tr>\n",
       "      <th>220</th>\n",
       "      <td>11</td>\n",
       "      <td>2</td>\n",
       "      <td>0</td>\n",
       "      <td>0</td>\n",
       "      <td>F</td>\n",
       "      <td>0.0</td>\n",
       "      <td>NaN</td>\n",
       "    </tr>\n",
       "  </tbody>\n",
       "</table>\n",
       "<p>221 rows × 7 columns</p>\n",
       "</div>"
      ],
      "text/plain": [
       "     ss  di  hi  m df      m.1  Demanda\n",
       "0     1   2   0  0  F  36703.0      NaN\n",
       "1     1   2   0  1  F  35673.0      NaN\n",
       "2     1   2   1  0  F  34527.0      NaN\n",
       "3     1   2   1  1  F  33996.0      NaN\n",
       "4     1   2   2  0  F  33526.0      NaN\n",
       "..   ..  ..  .. .. ..      ...      ...\n",
       "216   4   4   0  0  F   5944.0      NaN\n",
       "217   4   4   7  0  F   5618.0      NaN\n",
       "218   4   4  10  0  F   6125.0      NaN\n",
       "219   4   4  22  0  F   6504.0      NaN\n",
       "220  11   2   0  0  F      0.0      NaN\n",
       "\n",
       "[221 rows x 7 columns]"
      ]
     },
     "execution_count": 153,
     "metadata": {},
     "output_type": "execute_result"
    }
   ],
   "source": [
    "df"
   ]
  },
  {
   "cell_type": "code",
   "execution_count": 154,
   "metadata": {},
   "outputs": [],
   "source": [
    "df.drop('Demanda', axis=1, inplace=True)"
   ]
  },
  {
   "cell_type": "code",
   "execution_count": 155,
   "metadata": {},
   "outputs": [],
   "source": [
    "df.rename(columns={'m.1':'Demanda'}, inplace=True)"
   ]
  },
  {
   "cell_type": "code",
   "execution_count": 156,
   "metadata": {},
   "outputs": [],
   "source": [
    "ports = {1: 'seco', 2: \"s\", 3: \"ne\", 4:\"n\", 11:\"imperatriz\"}\n",
    "\n",
    "df['ss'] = df['ss'].map(ports)"
   ]
  },
  {
   "cell_type": "code",
   "execution_count": 157,
   "metadata": {},
   "outputs": [],
   "source": [
    "df.drop('df', axis=1, inplace=True)"
   ]
  },
  {
   "cell_type": "code",
   "execution_count": 158,
   "metadata": {},
   "outputs": [],
   "source": [
    "ports = {0:0, 1: 30}\n",
    "\n",
    "df['m'] = df['m'].map(ports)"
   ]
  },
  {
   "cell_type": "code",
   "execution_count": 159,
   "metadata": {},
   "outputs": [],
   "source": [
    "df['hi'] = df['hi'].apply(str)\n",
    "df['m'] = df['m'].apply(str)"
   ]
  },
  {
   "cell_type": "code",
   "execution_count": 160,
   "metadata": {},
   "outputs": [],
   "source": [
    "df['hora'] = df['hi'] + ':' + df['m']"
   ]
  },
  {
   "cell_type": "code",
   "execution_count": 162,
   "metadata": {},
   "outputs": [],
   "source": [
    "df.drop(['hi','m'], axis=1, inplace=True)"
   ]
  },
  {
   "cell_type": "code",
   "execution_count": 170,
   "metadata": {},
   "outputs": [],
   "source": [
    "data_partida = '2021-09-25'\n",
    "data_partida = datetime.strptime(data_partida, '%Y-%m-%d')"
   ]
  },
  {
   "cell_type": "code",
   "execution_count": 174,
   "metadata": {},
   "outputs": [],
   "source": [
    "datas = [(data_partida + timedelta(days = dias-1)) for dias in df['di']]"
   ]
  },
  {
   "cell_type": "code",
   "execution_count": 177,
   "metadata": {},
   "outputs": [
    {
     "name": "stdout",
     "output_type": "stream",
     "text": [
      "2021-09-26 00:00:00\n"
     ]
    }
   ],
   "source": [
    "print(datas[0])"
   ]
  },
  {
   "cell_type": "code",
   "execution_count": 179,
   "metadata": {},
   "outputs": [],
   "source": [
    "df['datas'] = datas"
   ]
  },
  {
   "cell_type": "code",
   "execution_count": 180,
   "metadata": {},
   "outputs": [
    {
     "data": {
      "text/html": [
       "<div>\n",
       "<style scoped>\n",
       "    .dataframe tbody tr th:only-of-type {\n",
       "        vertical-align: middle;\n",
       "    }\n",
       "\n",
       "    .dataframe tbody tr th {\n",
       "        vertical-align: top;\n",
       "    }\n",
       "\n",
       "    .dataframe thead th {\n",
       "        text-align: right;\n",
       "    }\n",
       "</style>\n",
       "<table border=\"1\" class=\"dataframe\">\n",
       "  <thead>\n",
       "    <tr style=\"text-align: right;\">\n",
       "      <th></th>\n",
       "      <th>ss</th>\n",
       "      <th>di</th>\n",
       "      <th>Demanda</th>\n",
       "      <th>hora</th>\n",
       "      <th>datas</th>\n",
       "    </tr>\n",
       "  </thead>\n",
       "  <tbody>\n",
       "    <tr>\n",
       "      <th>0</th>\n",
       "      <td>seco</td>\n",
       "      <td>2</td>\n",
       "      <td>36703.0</td>\n",
       "      <td>0:0</td>\n",
       "      <td>2021-09-26</td>\n",
       "    </tr>\n",
       "    <tr>\n",
       "      <th>1</th>\n",
       "      <td>seco</td>\n",
       "      <td>2</td>\n",
       "      <td>35673.0</td>\n",
       "      <td>0:30</td>\n",
       "      <td>2021-09-26</td>\n",
       "    </tr>\n",
       "    <tr>\n",
       "      <th>2</th>\n",
       "      <td>seco</td>\n",
       "      <td>2</td>\n",
       "      <td>34527.0</td>\n",
       "      <td>1:0</td>\n",
       "      <td>2021-09-26</td>\n",
       "    </tr>\n",
       "    <tr>\n",
       "      <th>3</th>\n",
       "      <td>seco</td>\n",
       "      <td>2</td>\n",
       "      <td>33996.0</td>\n",
       "      <td>1:30</td>\n",
       "      <td>2021-09-26</td>\n",
       "    </tr>\n",
       "    <tr>\n",
       "      <th>4</th>\n",
       "      <td>seco</td>\n",
       "      <td>2</td>\n",
       "      <td>33526.0</td>\n",
       "      <td>2:0</td>\n",
       "      <td>2021-09-26</td>\n",
       "    </tr>\n",
       "    <tr>\n",
       "      <th>...</th>\n",
       "      <td>...</td>\n",
       "      <td>...</td>\n",
       "      <td>...</td>\n",
       "      <td>...</td>\n",
       "      <td>...</td>\n",
       "    </tr>\n",
       "    <tr>\n",
       "      <th>216</th>\n",
       "      <td>n</td>\n",
       "      <td>4</td>\n",
       "      <td>5944.0</td>\n",
       "      <td>0:0</td>\n",
       "      <td>2021-09-28</td>\n",
       "    </tr>\n",
       "    <tr>\n",
       "      <th>217</th>\n",
       "      <td>n</td>\n",
       "      <td>4</td>\n",
       "      <td>5618.0</td>\n",
       "      <td>7:0</td>\n",
       "      <td>2021-09-28</td>\n",
       "    </tr>\n",
       "    <tr>\n",
       "      <th>218</th>\n",
       "      <td>n</td>\n",
       "      <td>4</td>\n",
       "      <td>6125.0</td>\n",
       "      <td>10:0</td>\n",
       "      <td>2021-09-28</td>\n",
       "    </tr>\n",
       "    <tr>\n",
       "      <th>219</th>\n",
       "      <td>n</td>\n",
       "      <td>4</td>\n",
       "      <td>6504.0</td>\n",
       "      <td>22:0</td>\n",
       "      <td>2021-09-28</td>\n",
       "    </tr>\n",
       "    <tr>\n",
       "      <th>220</th>\n",
       "      <td>imperatriz</td>\n",
       "      <td>2</td>\n",
       "      <td>0.0</td>\n",
       "      <td>0:0</td>\n",
       "      <td>2021-09-26</td>\n",
       "    </tr>\n",
       "  </tbody>\n",
       "</table>\n",
       "<p>221 rows × 5 columns</p>\n",
       "</div>"
      ],
      "text/plain": [
       "             ss  di  Demanda  hora      datas\n",
       "0          seco   2  36703.0   0:0 2021-09-26\n",
       "1          seco   2  35673.0  0:30 2021-09-26\n",
       "2          seco   2  34527.0   1:0 2021-09-26\n",
       "3          seco   2  33996.0  1:30 2021-09-26\n",
       "4          seco   2  33526.0   2:0 2021-09-26\n",
       "..          ...  ..      ...   ...        ...\n",
       "216           n   4   5944.0   0:0 2021-09-28\n",
       "217           n   4   5618.0   7:0 2021-09-28\n",
       "218           n   4   6125.0  10:0 2021-09-28\n",
       "219           n   4   6504.0  22:0 2021-09-28\n",
       "220  imperatriz   2      0.0   0:0 2021-09-26\n",
       "\n",
       "[221 rows x 5 columns]"
      ]
     },
     "execution_count": 180,
     "metadata": {},
     "output_type": "execute_result"
    }
   ],
   "source": [
    "df"
   ]
  },
  {
   "cell_type": "code",
   "execution_count": null,
   "metadata": {},
   "outputs": [],
   "source": []
  }
 ],
 "metadata": {
  "kernelspec": {
   "display_name": "Python 3",
   "language": "python",
   "name": "python3"
  },
  "language_info": {
   "codemirror_mode": {
    "name": "ipython",
    "version": 3
   },
   "file_extension": ".py",
   "mimetype": "text/x-python",
   "name": "python",
   "nbconvert_exporter": "python",
   "pygments_lexer": "ipython3",
   "version": "3.7.6"
  }
 },
 "nbformat": 4,
 "nbformat_minor": 4
}
