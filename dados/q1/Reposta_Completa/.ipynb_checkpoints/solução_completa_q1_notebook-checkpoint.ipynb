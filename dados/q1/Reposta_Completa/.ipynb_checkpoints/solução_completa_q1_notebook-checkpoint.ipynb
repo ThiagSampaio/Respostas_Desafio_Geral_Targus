{
 "cells": [
  {
   "cell_type": "markdown",
   "metadata": {},
   "source": [
    "<h1> Respostas para Dados - Q1 - Notebook </h1>"
   ]
  },
  {
   "cell_type": "markdown",
   "metadata": {},
   "source": [
    "Olá leitor, este notebook tem como objetivo apresentar a solução da Q1 da cadeira de dados.\n",
    "\n",
    "Então vamos lá!"
   ]
  },
  {
   "cell_type": "markdown",
   "metadata": {},
   "source": [
    "Primeiro decidi separar a questão em tópicos para mais fácil compreensão deste material. Caso queira ver a questão completa, acessar o README.md desse diretório"
   ]
  },
  {
   "cell_type": "markdown",
   "metadata": {},
   "source": [
    "<h2> Tabela guida <h2>\n",
    "\n",
    "1. [ Parte 1 - Importanto bibliotecas. ](#1)\n",
    "    \n",
    "2. [ Parte 2 - Obtenha ](#2)\n",
    "    \n",
    "3. [ Resposta Parte 2 ](#3)\n",
    "    \n",
    "4. [ Parte 3 - Consolide](#4)\n",
    "    \n",
    "5. [ Resposta Parte 3 ](#5)\n",
    "    \n",
    "6. [ Extra 1 ](#6)\n",
    "    \n",
    "7. [ Extra 2 ](#7) "
   ]
  },
  {
   "cell_type": "markdown",
   "metadata": {},
   "source": [
    "<a name=\"1\"></a>\n",
    "<h2> Parte 1 - Importando bibliotecas </h2>\n",
    "\n",
    "Primeiro vamos importar as bibliotecas utilizadas neste projeto:"
   ]
  },
  {
   "cell_type": "code",
   "execution_count": 34,
   "metadata": {},
   "outputs": [],
   "source": [
    "#Importando bibliotecas\n",
    "import pandas as pd\n",
    "import requests\n",
    "import pickle\n",
    "import sys\n",
    "from datetime import datetime, timedelta\n",
    "import asyncio"
   ]
  },
  {
   "cell_type": "markdown",
   "metadata": {},
   "source": [
    "<a name=\"2\"></a>\n",
    "<h2> Parte 2 - Obtenha </h2>\n",
    "\n",
    "Obtenha (1 pt todos):\n",
    "\n",
    "- a lista de estações automáticas.\n",
    "- uma série de 14 dias contendo todas as variáveis da uma estação qualquer.\n",
    "\n",
    "<br> Resposta </br>\n",
    "\n",
    "Para obter essas duas repostas basta usar request, seguindo a [documentação da API](https://portal.inmet.gov.br/manual/manual-de-uso-da-api-esta%C3%A7%C3%B5es).\n",
    "\n",
    "Primeira coisa que faremos são algumas funções para nos auxiliarem na montagem dessas requisições. Vamos lá."
   ]
  },
  {
   "cell_type": "code",
   "execution_count": 35,
   "metadata": {},
   "outputs": [],
   "source": [
    "#Função 1\n",
    "def datas_requisicao(delta=14):\n",
    "    '''\n",
    "    Função para aquisição e tratamento de datas.\n",
    "\n",
    "    Input: Inteiro(delta) representando o intervalo de dias para requisição. \n",
    "           Delta Default de 14 dias, como pedido na requisição do programa. \n",
    "\n",
    "    Output: Data de hoje e Data passada (-14 dias)\n",
    "    \n",
    "    OBSERVAÇÃO: foi visto que chegando a dias mais atuais as estação nao subiram seus dados climaticos. \n",
    "    Então se você observar, decidi não usar essa função na url_requisições(), ao invés coloquei as datas manualmente. \n",
    "    Porém a função funciona normalmente, basta descomentar \n",
    "    a 4° linha da função url_requisição \n",
    "    '''\n",
    "    \n",
    "    data_hoje = datetime.today()\n",
    "    delta_entre_datas = delta\n",
    "    data_passado = data_hoje - timedelta(days=delta_entre_datas)\n",
    "\n",
    "    data_hoje_requisicao = data_hoje.strftime('%Y-%m-%d')\n",
    "    data_passada_requisicao = data_passado.strftime('%Y-%m-%d')\n",
    "  \n",
    "    return data_passada_requisicao, data_hoje_requisicao\n",
    "\n",
    "#Função 2\n",
    "def url_requisicoes(tipo_estacao='T', codigo_estacao='A247'):\n",
    "    '''\n",
    "    Função para a 'fabricação' da requisição da API do INMET. \n",
    "    Ver documentação em: https://portal.inmet.gov.br/manual/manual-de-uso-da-api-esta%C3%A7%C3%B5es\n",
    "\n",
    "    Input: Tipo da estação T ou M para primeira requisição. \n",
    "           Codigo da estacao para segunda requisição\n",
    "\n",
    "    Output: Duas URL montadas para a requisição via API\n",
    "    \n",
    "    LER OBSERVAÇÃO da primeira função\n",
    "\n",
    "    '''\n",
    "    print (datas_requisicao()[0])\n",
    "    print (datas_requisicao()[1])\n",
    "    url_estacoes = f'https://apitempo.inmet.gov.br/estacoes/{tipo_estacao}'\n",
    "    #LEIA A OBSERVAÇÃO DA PRIMIRA FUNÇÃO\n",
    "    #url_estacoes_dadosdiarios = f'https://apitempo.inmet.gov.br/estacao/diaria/{datas_requisisao()[0]}/{datas_requisisao()[1]}/{codigo_estacao}'  \n",
    "    data1 = \"2019-07-01\"\n",
    "    data2 = \"2019-07-14\"\n",
    "    url_estacoes_dadosdiarios = f'https://apitempo.inmet.gov.br/estacao/diaria/{data1}/{data2}/{codigo_estacao}'\n",
    "    print (url_estacoes_dadosdiarios)\n",
    "    return url_estacoes, url_estacoes_dadosdiarios\n",
    "\n",
    "#Função 3\n",
    "\n",
    "def requisicao_lista_estacao():\n",
    "    \"\"\"\n",
    "    Função para requisição de lista das estações, gerando arquivo ListaEstacoes.json na pasta resposta_json\n",
    "    \"\"\"\n",
    "    try:\n",
    "        lista_estacoes = requests.get(url_requisicoes()[0])\n",
    "        lista_estacoes_json = lista_estacoes.json()\n",
    "        lista_estacoes.raise_for_status()\n",
    "        with open('json/ListaEstacoes.json', 'wb') as dj:\n",
    "            pickle.dump(lista_estacoes_json, dj)\n",
    "        print(\"Requisição Lista de estações finalizado com Sucesso!\")\n",
    "\n",
    "    # Tratamento de erros\n",
    "    except requests.exceptions.HTTPError as errh:\n",
    "        print(\"Http Error:\", errh)\n",
    "    except requests.exceptions.ConnectionError as errc:\n",
    "        print(\"Error Connecting:\", errc)\n",
    "    except requests.exceptions.Timeout as errt:\n",
    "        print(\"Timeout Error:\", errt)\n",
    "    except requests.exceptions.RequestException as err:\n",
    "        print(\"OOps: Something Else\", err)\n",
    "        \n",
    "#Função 4\n",
    "def requisicao_serie_dias():\n",
    "    \"\"\"\n",
    "    Função para requisição de serie de dias, gerando arquivo SerieDias.json na pasta resposta_json\n",
    "    \"\"\"\n",
    "    try:\n",
    "        serie_dias = requests.get(url_requisicoes()[1])\n",
    "        serie_dias_json = serie_dias.json()\n",
    "        serie_dias.raise_for_status()\n",
    "        with open('json/SerieDias.json', 'wb') as dj:\n",
    "            pickle.dump(serie_dias_json, dj)\n",
    "        print(\"Requisicção serie dias finalizado com Sucesso!\")\n",
    "\n",
    "    # Tratamento de erros\n",
    "    except requests.exceptions.HTTPError as errh:\n",
    "        print(\"Http Error:\", errh)\n",
    "    except requests.exceptions.ConnectionError as errc:\n",
    "        print(\"Error Connecting:\", errc)\n",
    "    except requests.exceptions.Timeout as errt:\n",
    "        print(\"Timeout Error:\", errt)\n",
    "    except requests.exceptions.RequestException as err:\n",
    "        print(\"OOps: Something Else\", err)  \n",
    "        \n",
    "#Função 5\n",
    "def carregamento1_listaestacoes():\n",
    "    '''\n",
    "    Função para o carramento do arquivo json na main.\n",
    "    Não é necessária esta função, porém ela se faz util caso o usuário queira visualizar o Json\n",
    "\n",
    "    Output: variavel com dados .json gravados.\n",
    "    '''\n",
    "\n",
    "    try:\n",
    "        with open('json/ListaEstacoes.json', 'rb') as fp:\n",
    "            listas_estacoes = pickle.load(fp)\n",
    "            return listas_estacoes\n",
    "    except FileNotFoundError:\n",
    "        print('Está faltando o arquivo ListaEstacoes.json')\n",
    "        sys.exit(-1)\n",
    "\n",
    "#Função 6\n",
    "def carregamento2_serie_dias():\n",
    "    '''\n",
    "    Função para o carramento do arquivo .json na main.\n",
    "    Não é necessária esta função, porém ela se faz util caso o usuário queira visualizar o Json\n",
    "\n",
    "    Output: variavel com dados .json gravados.\n",
    "    '''\n",
    "\n",
    "    try:\n",
    "        with open('json/SerieDias.json', 'rb') as fp:\n",
    "            serie_dias = pickle.load(fp)\n",
    "            return serie_dias\n",
    "    except FileNotFoundError:\n",
    "        print('Está faltando o arquivo SerieDias.json')\n",
    "        sys.exit(-1)"
   ]
  },
  {
   "cell_type": "markdown",
   "metadata": {},
   "source": [
    "<a name=\"3\"></a>\n",
    "<h3> Resposta Parte 2 </h3>"
   ]
  },
  {
   "cell_type": "code",
   "execution_count": 36,
   "metadata": {},
   "outputs": [
    {
     "name": "stdout",
     "output_type": "stream",
     "text": [
      "2021-09-23\n",
      "2021-10-07\n",
      "https://apitempo.inmet.gov.br/estacao/diaria/2019-07-01/2019-07-14/A247\n",
      "Requisição Lista de estações finalizado com Sucesso!\n",
      "2021-09-23\n",
      "2021-10-07\n",
      "https://apitempo.inmet.gov.br/estacao/diaria/2019-07-01/2019-07-14/A247\n",
      "Requisicção serie dias finalizado com Sucesso!\n"
     ]
    }
   ],
   "source": [
    "requisicao_lista_estacao()\n",
    "requisicao_serie_dias()"
   ]
  },
  {
   "cell_type": "markdown",
   "metadata": {},
   "source": [
    "<a name=\"4\"></a>\n",
    "<h2> Parte 3 - Consolide </h2>\n",
    "\n",
    "Consolide (1 pt todos):\n",
    "\n",
    "- a lista das estações automáticas em um dataframe.\n",
    "- a série de 14 dias de dados em um dataframe.\n",
    "\n"
   ]
  },
  {
   "cell_type": "code",
   "execution_count": 37,
   "metadata": {},
   "outputs": [],
   "source": [
    "listas_estacoes_json = carregamento1_listaestacoes()\n",
    "serie_dias_json = carregamento2_serie_dias()\n"
   ]
  },
  {
   "cell_type": "code",
   "execution_count": 38,
   "metadata": {},
   "outputs": [],
   "source": [
    "listas_estacoes_df = pd.DataFrame.from_dict(\n",
    "    listas_estacoes_json, orient='columns')\n",
    "\n",
    "serie_dias_df = pd.DataFrame.from_dict(\n",
    "    serie_dias_json, orient='columns')"
   ]
  },
  {
   "cell_type": "code",
   "execution_count": 39,
   "metadata": {},
   "outputs": [],
   "source": [
    "listas_estacoes_df_final = listas_estacoes_df[[\"DC_NOME\",\"CD_ESTACAO\"]]"
   ]
  },
  {
   "cell_type": "markdown",
   "metadata": {},
   "source": [
    "<a name=\"5\"></a>\n",
    "<h3> Resposta parte 3 </h3"
   ]
  },
  {
   "cell_type": "code",
   "execution_count": 40,
   "metadata": {},
   "outputs": [
    {
     "data": {
      "text/html": [
       "<div>\n",
       "<style scoped>\n",
       "    .dataframe tbody tr th:only-of-type {\n",
       "        vertical-align: middle;\n",
       "    }\n",
       "\n",
       "    .dataframe tbody tr th {\n",
       "        vertical-align: top;\n",
       "    }\n",
       "\n",
       "    .dataframe thead th {\n",
       "        text-align: right;\n",
       "    }\n",
       "</style>\n",
       "<table border=\"1\" class=\"dataframe\">\n",
       "  <thead>\n",
       "    <tr style=\"text-align: right;\">\n",
       "      <th></th>\n",
       "      <th>DC_NOME</th>\n",
       "      <th>CD_ESTACAO</th>\n",
       "    </tr>\n",
       "  </thead>\n",
       "  <tbody>\n",
       "    <tr>\n",
       "      <th>0</th>\n",
       "      <td>ABROLHOS</td>\n",
       "      <td>A422</td>\n",
       "    </tr>\n",
       "    <tr>\n",
       "      <th>1</th>\n",
       "      <td>ACARAU</td>\n",
       "      <td>A360</td>\n",
       "    </tr>\n",
       "    <tr>\n",
       "      <th>2</th>\n",
       "      <td>AFONSO CLAUDIO</td>\n",
       "      <td>A657</td>\n",
       "    </tr>\n",
       "    <tr>\n",
       "      <th>3</th>\n",
       "      <td>AGUA BOA</td>\n",
       "      <td>A908</td>\n",
       "    </tr>\n",
       "    <tr>\n",
       "      <th>4</th>\n",
       "      <td>AGUA CLARA</td>\n",
       "      <td>A756</td>\n",
       "    </tr>\n",
       "  </tbody>\n",
       "</table>\n",
       "</div>"
      ],
      "text/plain": [
       "          DC_NOME CD_ESTACAO\n",
       "0        ABROLHOS       A422\n",
       "1          ACARAU       A360\n",
       "2  AFONSO CLAUDIO       A657\n",
       "3        AGUA BOA       A908\n",
       "4      AGUA CLARA       A756"
      ]
     },
     "execution_count": 40,
     "metadata": {},
     "output_type": "execute_result"
    }
   ],
   "source": [
    "listas_estacoes_df_final.head()"
   ]
  },
  {
   "cell_type": "code",
   "execution_count": 41,
   "metadata": {},
   "outputs": [
    {
     "data": {
      "text/html": [
       "<div>\n",
       "<style scoped>\n",
       "    .dataframe tbody tr th:only-of-type {\n",
       "        vertical-align: middle;\n",
       "    }\n",
       "\n",
       "    .dataframe tbody tr th {\n",
       "        vertical-align: top;\n",
       "    }\n",
       "\n",
       "    .dataframe thead th {\n",
       "        text-align: right;\n",
       "    }\n",
       "</style>\n",
       "<table border=\"1\" class=\"dataframe\">\n",
       "  <thead>\n",
       "    <tr style=\"text-align: right;\">\n",
       "      <th></th>\n",
       "      <th>UMID_MED</th>\n",
       "      <th>DT_MEDICAO</th>\n",
       "      <th>DC_NOME</th>\n",
       "      <th>UMID_MIN</th>\n",
       "      <th>TEMP_MED</th>\n",
       "      <th>CHUVA</th>\n",
       "      <th>VL_LATITUDE</th>\n",
       "      <th>TEMP_MIN</th>\n",
       "      <th>TEMP_MAX</th>\n",
       "      <th>UF</th>\n",
       "      <th>VEL_VENTO_MED</th>\n",
       "      <th>CD_ESTACAO</th>\n",
       "      <th>VL_LONGITUDE</th>\n",
       "    </tr>\n",
       "  </thead>\n",
       "  <tbody>\n",
       "    <tr>\n",
       "      <th>0</th>\n",
       "      <td>67.5</td>\n",
       "      <td>2019-07-01</td>\n",
       "      <td>XINGUARA</td>\n",
       "      <td>40</td>\n",
       "      <td>25.8</td>\n",
       "      <td>0</td>\n",
       "      <td>-7.110518</td>\n",
       "      <td>18.4</td>\n",
       "      <td>34</td>\n",
       "      <td>PA</td>\n",
       "      <td>None</td>\n",
       "      <td>A247</td>\n",
       "      <td>-49.926072</td>\n",
       "    </tr>\n",
       "    <tr>\n",
       "      <th>1</th>\n",
       "      <td>66.5</td>\n",
       "      <td>2019-07-02</td>\n",
       "      <td>XINGUARA</td>\n",
       "      <td>36</td>\n",
       "      <td>26.1</td>\n",
       "      <td>0</td>\n",
       "      <td>-7.110518</td>\n",
       "      <td>18.2</td>\n",
       "      <td>34.7</td>\n",
       "      <td>PA</td>\n",
       "      <td>None</td>\n",
       "      <td>A247</td>\n",
       "      <td>-49.926072</td>\n",
       "    </tr>\n",
       "    <tr>\n",
       "      <th>2</th>\n",
       "      <td>67.4</td>\n",
       "      <td>2019-07-03</td>\n",
       "      <td>XINGUARA</td>\n",
       "      <td>42</td>\n",
       "      <td>26.3</td>\n",
       "      <td>0</td>\n",
       "      <td>-7.110518</td>\n",
       "      <td>19.9</td>\n",
       "      <td>34</td>\n",
       "      <td>PA</td>\n",
       "      <td>None</td>\n",
       "      <td>A247</td>\n",
       "      <td>-49.926072</td>\n",
       "    </tr>\n",
       "    <tr>\n",
       "      <th>3</th>\n",
       "      <td>71.6</td>\n",
       "      <td>2019-07-04</td>\n",
       "      <td>XINGUARA</td>\n",
       "      <td>43</td>\n",
       "      <td>26.3</td>\n",
       "      <td>0</td>\n",
       "      <td>-7.110518</td>\n",
       "      <td>20</td>\n",
       "      <td>34.7</td>\n",
       "      <td>PA</td>\n",
       "      <td>None</td>\n",
       "      <td>A247</td>\n",
       "      <td>-49.926072</td>\n",
       "    </tr>\n",
       "    <tr>\n",
       "      <th>4</th>\n",
       "      <td>72.3</td>\n",
       "      <td>2019-07-05</td>\n",
       "      <td>XINGUARA</td>\n",
       "      <td>44</td>\n",
       "      <td>26.8</td>\n",
       "      <td>0</td>\n",
       "      <td>-7.110518</td>\n",
       "      <td>20.6</td>\n",
       "      <td>34.7</td>\n",
       "      <td>PA</td>\n",
       "      <td>None</td>\n",
       "      <td>A247</td>\n",
       "      <td>-49.926072</td>\n",
       "    </tr>\n",
       "  </tbody>\n",
       "</table>\n",
       "</div>"
      ],
      "text/plain": [
       "  UMID_MED  DT_MEDICAO   DC_NOME UMID_MIN TEMP_MED CHUVA VL_LATITUDE TEMP_MIN  \\\n",
       "0     67.5  2019-07-01  XINGUARA       40     25.8     0   -7.110518     18.4   \n",
       "1     66.5  2019-07-02  XINGUARA       36     26.1     0   -7.110518     18.2   \n",
       "2     67.4  2019-07-03  XINGUARA       42     26.3     0   -7.110518     19.9   \n",
       "3     71.6  2019-07-04  XINGUARA       43     26.3     0   -7.110518       20   \n",
       "4     72.3  2019-07-05  XINGUARA       44     26.8     0   -7.110518     20.6   \n",
       "\n",
       "  TEMP_MAX  UF VEL_VENTO_MED CD_ESTACAO VL_LONGITUDE  \n",
       "0       34  PA          None       A247   -49.926072  \n",
       "1     34.7  PA          None       A247   -49.926072  \n",
       "2       34  PA          None       A247   -49.926072  \n",
       "3     34.7  PA          None       A247   -49.926072  \n",
       "4     34.7  PA          None       A247   -49.926072  "
      ]
     },
     "execution_count": 41,
     "metadata": {},
     "output_type": "execute_result"
    }
   ],
   "source": [
    "serie_dias_df.head()"
   ]
  },
  {
   "cell_type": "markdown",
   "metadata": {},
   "source": [
    "<a name=\"6\"></a>\n",
    "<h2> Extra 1 - async </h2>\n",
    "\n",
    "- use requisições assíncronas ou threadding para coletar dados de 15 estações (1 pt).\n",
    "\n",
    "Resposta\n",
    "---\n",
    "Olhar arquivo main.py\n"
   ]
  },
  {
   "cell_type": "markdown",
   "metadata": {},
   "source": [
    "<a name=\"7\"></a>\n",
    "<h2> Extra 2 - há falhas nos dados? Crie uma forma de verificar (0.5 pt).</h2>"
   ]
  },
  {
   "cell_type": "markdown",
   "metadata": {},
   "source": [
    "listas_estações"
   ]
  },
  {
   "cell_type": "code",
   "execution_count": 42,
   "metadata": {},
   "outputs": [
    {
     "data": {
      "text/plain": [
       "<BarContainer object of 15 artists>"
      ]
     },
     "execution_count": 42,
     "metadata": {},
     "output_type": "execute_result"
    },
    {
     "data": {
      "image/png": "[encoded data removed]",
      "text/plain": [
       "<Figure size 2160x720 with 1 Axes>"
      ]
     },
     "metadata": {
      "needs_background": "light"
     },
     "output_type": "display_data"
    }
   ],
   "source": [
    "import matplotlib.pyplot as plt\n",
    "nan_columns = []\n",
    "nan_values = []\n",
    "\n",
    "for column in listas_estacoes_df.columns:\n",
    "    nan_columns.append(column)\n",
    "    nan_values.append(listas_estacoes_df[column].isnull().sum())\n",
    "\n",
    "fig, ax = plt.subplots(figsize=(30,10))\n",
    "ax.set(xlabel='Colunas', ylabel='Numero de nulos',\n",
    "       title='Dados falhos')\n",
    "ax.grid()\n",
    "plt.bar(nan_columns, nan_values)"
   ]
  },
  {
   "cell_type": "markdown",
   "metadata": {},
   "source": [
    "serie_dias_df"
   ]
  },
  {
   "cell_type": "code",
   "execution_count": 43,
   "metadata": {},
   "outputs": [
    {
     "data": {
      "text/plain": [
       "<BarContainer object of 13 artists>"
      ]
     },
     "execution_count": 43,
     "metadata": {},
     "output_type": "execute_result"
    },
    {
     "data": {
      "image/png": "[encoded data removed]",
      "text/plain": [
       "<Figure size 2160x720 with 1 Axes>"
      ]
     },
     "metadata": {
      "needs_background": "light"
     },
     "output_type": "display_data"
    }
   ],
   "source": [
    "import matplotlib.pyplot as plt\n",
    "nan_columns = []\n",
    "nan_values = []\n",
    "\n",
    "for column in serie_dias_df.columns:\n",
    "    nan_columns.append(column)\n",
    "    nan_values.append(serie_dias_df[column].isnull().sum())\n",
    "\n",
    "fig, ax = plt.subplots(figsize=(30,10))\n",
    "ax.set(xlabel='Colunas', ylabel='Numero de nulos',\n",
    "       title='Dados falhos')\n",
    "ax.grid()\n",
    "plt.bar(nan_columns, nan_values)"
   ]
  }
 ],
 "metadata": {
  "kernelspec": {
   "display_name": "Python 3",
   "language": "python",
   "name": "python3"
  },
  "language_info": {
   "codemirror_mode": {
    "name": "ipython",
    "version": 3
   },
   "file_extension": ".py",
   "mimetype": "text/x-python",
   "name": "python",
   "nbconvert_exporter": "python",
   "pygments_lexer": "ipython3",
   "version": "3.7.6"
  }
 },
 "nbformat": 4,
 "nbformat_minor": 4
}
